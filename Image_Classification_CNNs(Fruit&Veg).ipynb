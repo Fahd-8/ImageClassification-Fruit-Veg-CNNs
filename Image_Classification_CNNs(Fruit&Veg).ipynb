{
  "metadata": {
    "kernelspec": {
      "language": "python",
      "display_name": "Python 3",
      "name": "python3"
    },
    "language_info": {
      "name": "python",
      "version": "3.10.13",
      "mimetype": "text/x-python",
      "codemirror_mode": {
        "name": "ipython",
        "version": 3
      },
      "pygments_lexer": "ipython3",
      "nbconvert_exporter": "python",
      "file_extension": ".py"
    },
    "kaggle": {
      "accelerator": "none",
      "dataSources": [
        {
          "sourceId": 3173719,
          "sourceType": "datasetVersion",
          "datasetId": 952827
        }
      ],
      "dockerImageVersionId": 30732,
      "isInternetEnabled": true,
      "language": "python",
      "sourceType": "notebook",
      "isGpuEnabled": false
    },
    "colab": {
      "name": "Image Classification_CNNs(Fruit&Veg)",
      "provenance": []
    }
  },
  "nbformat_minor": 0,
  "nbformat": 4,
  "cells": [
    {
      "source": [
        "\n",
        "# IMPORTANT: RUN THIS CELL IN ORDER TO IMPORT YOUR KAGGLE DATA SOURCES\n",
        "# TO THE CORRECT LOCATION (/kaggle/input) IN YOUR NOTEBOOK,\n",
        "# THEN FEEL FREE TO DELETE THIS CELL.\n",
        "# NOTE: THIS NOTEBOOK ENVIRONMENT DIFFERS FROM KAGGLE'S PYTHON\n",
        "# ENVIRONMENT SO THERE MAY BE MISSING LIBRARIES USED BY YOUR\n",
        "# NOTEBOOK.\n",
        "\n",
        "import os\n",
        "import sys\n",
        "from tempfile import NamedTemporaryFile\n",
        "from urllib.request import urlopen\n",
        "from urllib.parse import unquote, urlparse\n",
        "from urllib.error import HTTPError\n",
        "from zipfile import ZipFile\n",
        "import tarfile\n",
        "import shutil\n",
        "\n",
        "CHUNK_SIZE = 40960\n",
        "DATA_SOURCE_MAPPING = 'fruit-and-vegetable-image-recognition:https%3A%2F%2Fstorage.googleapis.com%2Fkaggle-data-sets%2F952827%2F3173719%2Fbundle%2Farchive.zip%3FX-Goog-Algorithm%3DGOOG4-RSA-SHA256%26X-Goog-Credential%3Dgcp-kaggle-com%2540kaggle-161607.iam.gserviceaccount.com%252F20240606%252Fauto%252Fstorage%252Fgoog4_request%26X-Goog-Date%3D20240606T214917Z%26X-Goog-Expires%3D259200%26X-Goog-SignedHeaders%3Dhost%26X-Goog-Signature%3D376b2349e33d8ad073416bde939b73b432e52402f4569748aa1ddaf2bcea47954f2fc7a42ce1418ff18c89991c2a8d2a5c6fe88031e934dbfe96fbc63d0211f46339df0107869792142c16b861bcc78e49315a58e75d87d4fd0cb73d428f3ba3e29fc79fe1b7aaba51df63aa8233559550d752b17a65127623bb5a0839569bcebb804d559400cb95ba3ff3be4ed2bc8372cd7da7bc91afb0cbb4413d530a7a1bb68ac2672375f7c2b4d3b5d553f97e0bdaff53694be2a4e19f2323e51120d3b32a5d1b08f96e83f6aa05edc1105c3fec12d91e3450f8fff0165c8655048757d2ec609540b7738615237056973f140f29ace1d738780a10feec25085fd9800395'\n",
        "\n",
        "KAGGLE_INPUT_PATH='/kaggle/input'\n",
        "KAGGLE_WORKING_PATH='/kaggle/working'\n",
        "KAGGLE_SYMLINK='kaggle'\n",
        "\n",
        "!umount /kaggle/input/ 2> /dev/null\n",
        "shutil.rmtree('/kaggle/input', ignore_errors=True)\n",
        "os.makedirs(KAGGLE_INPUT_PATH, 0o777, exist_ok=True)\n",
        "os.makedirs(KAGGLE_WORKING_PATH, 0o777, exist_ok=True)\n",
        "\n",
        "try:\n",
        "  os.symlink(KAGGLE_INPUT_PATH, os.path.join(\"..\", 'input'), target_is_directory=True)\n",
        "except FileExistsError:\n",
        "  pass\n",
        "try:\n",
        "  os.symlink(KAGGLE_WORKING_PATH, os.path.join(\"..\", 'working'), target_is_directory=True)\n",
        "except FileExistsError:\n",
        "  pass\n",
        "\n",
        "for data_source_mapping in DATA_SOURCE_MAPPING.split(','):\n",
        "    directory, download_url_encoded = data_source_mapping.split(':')\n",
        "    download_url = unquote(download_url_encoded)\n",
        "    filename = urlparse(download_url).path\n",
        "    destination_path = os.path.join(KAGGLE_INPUT_PATH, directory)\n",
        "    try:\n",
        "        with urlopen(download_url) as fileres, NamedTemporaryFile() as tfile:\n",
        "            total_length = fileres.headers['content-length']\n",
        "            print(f'Downloading {directory}, {total_length} bytes compressed')\n",
        "            dl = 0\n",
        "            data = fileres.read(CHUNK_SIZE)\n",
        "            while len(data) > 0:\n",
        "                dl += len(data)\n",
        "                tfile.write(data)\n",
        "                done = int(50 * dl / int(total_length))\n",
        "                sys.stdout.write(f\"\\r[{'=' * done}{' ' * (50-done)}] {dl} bytes downloaded\")\n",
        "                sys.stdout.flush()\n",
        "                data = fileres.read(CHUNK_SIZE)\n",
        "            if filename.endswith('.zip'):\n",
        "              with ZipFile(tfile) as zfile:\n",
        "                zfile.extractall(destination_path)\n",
        "            else:\n",
        "              with tarfile.open(tfile.name) as tarfile:\n",
        "                tarfile.extractall(destination_path)\n",
        "            print(f'\\nDownloaded and uncompressed: {directory}')\n",
        "    except HTTPError as e:\n",
        "        print(f'Failed to load (likely expired) {download_url} to path {destination_path}')\n",
        "        continue\n",
        "    except OSError as e:\n",
        "        print(f'Failed to load {download_url} to path {destination_path}')\n",
        "        continue\n",
        "\n",
        "print('Data source import complete.')\n"
      ],
      "metadata": {
        "id": "V2X_orAPK-sr",
        "outputId": "e0ecb9a5-5fe6-4430-8730-56ee27b2168e",
        "colab": {
          "base_uri": "https://localhost:8080/"
        }
      },
      "cell_type": "code",
      "outputs": [
        {
          "output_type": "stream",
          "name": "stdout",
          "text": [
            "Downloading fruit-and-vegetable-image-recognition, 2130757290 bytes compressed\n",
            "[=======                                           ] 329932800 bytes downloaded"
          ]
        }
      ],
      "execution_count": null
    },
    {
      "cell_type": "code",
      "source": [
        "# This Python 3 environment comes with many helpful analytics libraries installed\n",
        "# It is defined by the kaggle/python Docker image: https://github.com/kaggle/docker-python\n",
        "# For example, here's several helpful packages to load\n",
        "\n",
        "import numpy as np # linear algebra\n",
        "import pandas as pd # data processing, CSV file I/O (e.g. pd.read_csv)\n",
        "\n",
        "# Input data files are available in the read-only \"../input/\" directory\n",
        "# For example, running this (by clicking run or pressing Shift+Enter) will list all files under the input directory\n",
        "\n",
        "import os\n",
        "for dirname, _, filenames in os.walk('/kaggle/input'):\n",
        "    for filename in filenames:\n",
        "        print(os.path.join(dirname, filename))\n",
        "\n",
        "# You can write up to 20GB to the current directory (/kaggle/working/) that gets preserved as output when you create a version using \"Save & Run All\"\n",
        "# You can also write temporary files to /kaggle/temp/, but they won't be saved outside of the current session"
      ],
      "metadata": {
        "_uuid": "8f2839f25d086af736a60e9eeb907d3b93b6e0e5",
        "_cell_guid": "b1076dfc-b9ad-4769-8c92-a6c4dae69d19",
        "execution": {
          "iopub.status.busy": "2024-06-06T20:51:49.438449Z",
          "iopub.execute_input": "2024-06-06T20:51:49.438833Z",
          "iopub.status.idle": "2024-06-06T20:51:51.575985Z",
          "shell.execute_reply.started": "2024-06-06T20:51:49.438803Z",
          "shell.execute_reply": "2024-06-06T20:51:51.574798Z"
        },
        "trusted": true,
        "id": "5zj9PgPsK-sv"
      },
      "execution_count": null,
      "outputs": []
    },
    {
      "cell_type": "code",
      "source": [],
      "metadata": {
        "id": "vOM8uxjcK-sw"
      },
      "execution_count": null,
      "outputs": []
    },
    {
      "cell_type": "code",
      "source": [
        "import tensorflow as tf"
      ],
      "metadata": {
        "execution": {
          "iopub.status.busy": "2024-06-06T20:51:51.578199Z",
          "iopub.execute_input": "2024-06-06T20:51:51.578796Z",
          "iopub.status.idle": "2024-06-06T20:52:05.412158Z",
          "shell.execute_reply.started": "2024-06-06T20:51:51.57875Z",
          "shell.execute_reply": "2024-06-06T20:52:05.410843Z"
        },
        "trusted": true,
        "id": "QwpBRx2hK-sy"
      },
      "execution_count": null,
      "outputs": []
    },
    {
      "cell_type": "code",
      "source": [
        "from tensorflow.keras.preprocessing.image import ImageDataGenerator\n",
        "from tensorflow.keras.layers import Dense,Conv2D,Flatten,MaxPooling2D,Input,Dropout,BatchNormalization\n",
        "from tensorflow.keras.models import Model\n",
        "from tensorflow.keras.layers import LeakyReLU\n",
        "import matplotlib.pyplot as plt\n",
        "import numpy as np"
      ],
      "metadata": {
        "execution": {
          "iopub.status.busy": "2024-06-06T20:52:05.413611Z",
          "iopub.execute_input": "2024-06-06T20:52:05.414227Z",
          "iopub.status.idle": "2024-06-06T20:52:05.465466Z",
          "shell.execute_reply.started": "2024-06-06T20:52:05.414193Z",
          "shell.execute_reply": "2024-06-06T20:52:05.464079Z"
        },
        "trusted": true,
        "id": "3wU3CyPGK-sy"
      },
      "execution_count": null,
      "outputs": []
    },
    {
      "cell_type": "code",
      "source": [
        "data_train_path =\"/kaggle/input/fruit-and-vegetable-image-recognition/train\"\n",
        "data_test_path=\"/kaggle/input/fruit-and-vegetable-image-recognition/test\"\n",
        "data_val_path = \"/kaggle/input/fruit-and-vegetable-image-recognition/validation\"\n"
      ],
      "metadata": {
        "execution": {
          "iopub.status.busy": "2024-06-06T20:52:05.468086Z",
          "iopub.execute_input": "2024-06-06T20:52:05.468478Z",
          "iopub.status.idle": "2024-06-06T20:52:05.473814Z",
          "shell.execute_reply.started": "2024-06-06T20:52:05.468447Z",
          "shell.execute_reply": "2024-06-06T20:52:05.472615Z"
        },
        "trusted": true,
        "id": "2OmzJGnZK-sz"
      },
      "execution_count": null,
      "outputs": []
    },
    {
      "cell_type": "code",
      "source": [
        "img_width = 180\n",
        "img_height = 180"
      ],
      "metadata": {
        "execution": {
          "iopub.status.busy": "2024-06-06T20:52:05.475544Z",
          "iopub.execute_input": "2024-06-06T20:52:05.476017Z",
          "iopub.status.idle": "2024-06-06T20:52:05.484436Z",
          "shell.execute_reply.started": "2024-06-06T20:52:05.475969Z",
          "shell.execute_reply": "2024-06-06T20:52:05.483443Z"
        },
        "trusted": true,
        "id": "HGn7wBAcK-s0"
      },
      "execution_count": null,
      "outputs": []
    },
    {
      "cell_type": "code",
      "source": [
        "data_train = tf.keras.utils.image_dataset_from_directory(\n",
        "data_train_path,\n",
        "    shuffle= True,\n",
        "    image_size= (img_width, img_height),\n",
        "    batch_size = 32,\n",
        "    validation_split=False\n",
        ")"
      ],
      "metadata": {
        "execution": {
          "iopub.status.busy": "2024-06-06T20:52:05.488109Z",
          "iopub.execute_input": "2024-06-06T20:52:05.48852Z",
          "iopub.status.idle": "2024-06-06T20:52:06.072671Z",
          "shell.execute_reply.started": "2024-06-06T20:52:05.48849Z",
          "shell.execute_reply": "2024-06-06T20:52:06.071507Z"
        },
        "trusted": true,
        "id": "2h0lYwoOK-s1"
      },
      "execution_count": null,
      "outputs": []
    },
    {
      "cell_type": "code",
      "source": [
        "data_cat = data_train.class_names\n",
        "#data_cat"
      ],
      "metadata": {
        "execution": {
          "iopub.status.busy": "2024-06-06T20:52:06.074089Z",
          "iopub.execute_input": "2024-06-06T20:52:06.074484Z",
          "iopub.status.idle": "2024-06-06T20:52:06.079551Z",
          "shell.execute_reply.started": "2024-06-06T20:52:06.074447Z",
          "shell.execute_reply": "2024-06-06T20:52:06.078384Z"
        },
        "trusted": true,
        "id": "TvqKq-dmK-s2"
      },
      "execution_count": null,
      "outputs": []
    },
    {
      "cell_type": "code",
      "source": [
        "data_val = tf.keras.utils.image_dataset_from_directory(\n",
        "    data_val_path,\n",
        "    image_size=(img_width,img_height),\n",
        "    batch_size=32,\n",
        "    shuffle=False,\n",
        "    validation_split=False\n",
        ")"
      ],
      "metadata": {
        "execution": {
          "iopub.status.busy": "2024-06-06T20:52:06.080968Z",
          "iopub.execute_input": "2024-06-06T20:52:06.081384Z",
          "iopub.status.idle": "2024-06-06T20:52:06.179982Z",
          "shell.execute_reply.started": "2024-06-06T20:52:06.081344Z",
          "shell.execute_reply": "2024-06-06T20:52:06.178882Z"
        },
        "trusted": true,
        "id": "ysbUhIuIK-s4"
      },
      "execution_count": null,
      "outputs": []
    },
    {
      "cell_type": "code",
      "source": [
        "data_test = tf.keras.utils.image_dataset_from_directory(\n",
        "data_test_path,\n",
        "    image_size=(img_width,img_height),\n",
        "    batch_size=32,\n",
        "    shuffle=False,\n",
        "    validation_split=False\n",
        ")"
      ],
      "metadata": {
        "execution": {
          "iopub.status.busy": "2024-06-06T20:52:06.181735Z",
          "iopub.execute_input": "2024-06-06T20:52:06.182086Z",
          "iopub.status.idle": "2024-06-06T20:52:06.279023Z",
          "shell.execute_reply.started": "2024-06-06T20:52:06.182056Z",
          "shell.execute_reply": "2024-06-06T20:52:06.277937Z"
        },
        "trusted": true,
        "id": "ab1A8uChK-s5"
      },
      "execution_count": null,
      "outputs": []
    },
    {
      "cell_type": "code",
      "source": [
        "plt.figure(figsize=(10,10))\n",
        "for image, labels in data_train.take(1):\n",
        "    for i in range(9):\n",
        "        plt.subplot(3,3,i+1)\n",
        "        plt.imshow(image[i].numpy().astype('uint8'))\n",
        "        plt.title(data_cat[labels[i]])\n",
        "        plt.axis('off')"
      ],
      "metadata": {
        "execution": {
          "iopub.status.busy": "2024-06-06T20:52:06.281986Z",
          "iopub.execute_input": "2024-06-06T20:52:06.28236Z",
          "iopub.status.idle": "2024-06-06T20:52:08.003331Z",
          "shell.execute_reply.started": "2024-06-06T20:52:06.28233Z",
          "shell.execute_reply": "2024-06-06T20:52:08.002201Z"
        },
        "trusted": true,
        "id": "Fnv4Ot4-K-s6"
      },
      "execution_count": null,
      "outputs": []
    },
    {
      "cell_type": "code",
      "source": [
        "data_train"
      ],
      "metadata": {
        "execution": {
          "iopub.status.busy": "2024-06-06T20:52:08.004676Z",
          "iopub.execute_input": "2024-06-06T20:52:08.005046Z",
          "iopub.status.idle": "2024-06-06T20:52:08.012451Z",
          "shell.execute_reply.started": "2024-06-06T20:52:08.005014Z",
          "shell.execute_reply": "2024-06-06T20:52:08.011253Z"
        },
        "trusted": true,
        "id": "076v4NFhK-s7"
      },
      "execution_count": null,
      "outputs": []
    },
    {
      "cell_type": "code",
      "source": [
        "from tensorflow.keras.models import Sequential\n",
        "from tensorflow.keras.layers import Dense, Flatten, Conv2D, MaxPooling2D\n"
      ],
      "metadata": {
        "execution": {
          "iopub.status.busy": "2024-06-06T20:52:08.013822Z",
          "iopub.execute_input": "2024-06-06T20:52:08.014182Z",
          "iopub.status.idle": "2024-06-06T20:52:08.020205Z",
          "shell.execute_reply.started": "2024-06-06T20:52:08.014132Z",
          "shell.execute_reply": "2024-06-06T20:52:08.019018Z"
        },
        "trusted": true,
        "id": "_lckQMtEK-s8"
      },
      "execution_count": null,
      "outputs": []
    },
    {
      "cell_type": "code",
      "source": [
        "from tensorflow.keras.layers import Rescaling\n",
        "\n",
        "# Define the rescaling layer\n",
        "rescaling = Rescaling(1./255)\n",
        "\n",
        "# Define the Sequential model\n",
        "model = Sequential([\n",
        "    rescaling,  # Rescaling layer\n",
        "    Conv2D(16, 3, padding='same', activation='relu'),\n",
        "    MaxPooling2D(),\n",
        "    Conv2D(32, 3, padding='same', activation='relu'),\n",
        "    MaxPooling2D(),\n",
        "    Conv2D(64, 3, padding='same', activation='relu'),\n",
        "    MaxPooling2D(),\n",
        "    Flatten(),\n",
        "    Dropout(0.2),\n",
        "    Dense(128),\n",
        "    Dense(len(data_cat)),\n",
        "])\n"
      ],
      "metadata": {
        "execution": {
          "iopub.status.busy": "2024-06-06T21:07:50.748158Z",
          "iopub.execute_input": "2024-06-06T21:07:50.748536Z",
          "iopub.status.idle": "2024-06-06T21:07:50.768598Z",
          "shell.execute_reply.started": "2024-06-06T21:07:50.748507Z",
          "shell.execute_reply": "2024-06-06T21:07:50.767488Z"
        },
        "trusted": true,
        "id": "i3cs6C4cK-s8"
      },
      "execution_count": null,
      "outputs": []
    },
    {
      "cell_type": "code",
      "source": [
        "    model.compile(optimizer='adam', loss =tf.keras.losses.SparseCategoricalCrossentropy(from_logits=True), metrics=['accuracy'])\n"
      ],
      "metadata": {
        "execution": {
          "iopub.status.busy": "2024-06-06T21:07:53.672765Z",
          "iopub.execute_input": "2024-06-06T21:07:53.673167Z",
          "iopub.status.idle": "2024-06-06T21:07:53.684583Z",
          "shell.execute_reply.started": "2024-06-06T21:07:53.673124Z",
          "shell.execute_reply": "2024-06-06T21:07:53.683464Z"
        },
        "trusted": true,
        "id": "9xeKFszlK-s9"
      },
      "execution_count": null,
      "outputs": []
    },
    {
      "cell_type": "code",
      "source": [
        "epochs =25\n",
        "history = model.fit(data_train, validation_data=data_val,epochs=epochs,batch_size=32,verbose=1 )"
      ],
      "metadata": {
        "execution": {
          "iopub.status.busy": "2024-06-06T21:07:55.707891Z",
          "iopub.execute_input": "2024-06-06T21:07:55.708786Z",
          "iopub.status.idle": "2024-06-06T21:40:57.91154Z",
          "shell.execute_reply.started": "2024-06-06T21:07:55.708748Z",
          "shell.execute_reply": "2024-06-06T21:40:57.910325Z"
        },
        "trusted": true,
        "id": "aTLoXAr4K-s9"
      },
      "execution_count": null,
      "outputs": []
    },
    {
      "cell_type": "code",
      "source": [
        "epochs_range = range(epochs)\n",
        "\n",
        "plt.figure(figsize=(8,8))\n",
        "plt.subplot(2,2,1)\n",
        "plt.plot(epochs_range, history.history['accuracy'],label='Training Accuracy')\n",
        "plt.plot(epochs_range , history.history['val_accuracy'],label ='Validation Accuracy')\n",
        "plt.title('Accuracy')\n",
        "\n",
        "plt.subplot(2,2,2)\n",
        "plt.plot(epochs_range , history.history['loss'], label='Training Loss')\n",
        "plt.plot(epochs_range, history.history['val_loss'], label='Validation Loss')\n",
        "plt.title('Loss')\n",
        "\n",
        "plt.show()"
      ],
      "metadata": {
        "execution": {
          "iopub.status.busy": "2024-06-06T21:45:03.192715Z",
          "iopub.execute_input": "2024-06-06T21:45:03.193115Z",
          "iopub.status.idle": "2024-06-06T21:45:03.55257Z",
          "shell.execute_reply.started": "2024-06-06T21:45:03.193082Z",
          "shell.execute_reply": "2024-06-06T21:45:03.551427Z"
        },
        "trusted": true,
        "id": "277inbAWK-s-"
      },
      "execution_count": null,
      "outputs": []
    },
    {
      "cell_type": "code",
      "source": [
        "#image 'Enter your fruit image to classify'\n",
        "#image= tf.keras.utils.load_img(image, target_size=(img_width, img_height))\n",
        "#img_arr = tf.keras.utils.array_to_img(image)\n",
        "#img_bat = tf.expand_dims(img_arr, 0)"
      ],
      "metadata": {
        "execution": {
          "iopub.status.busy": "2024-06-06T21:47:07.33466Z",
          "iopub.execute_input": "2024-06-06T21:47:07.335078Z",
          "iopub.status.idle": "2024-06-06T21:47:07.340071Z",
          "shell.execute_reply.started": "2024-06-06T21:47:07.335046Z",
          "shell.execute_reply": "2024-06-06T21:47:07.338912Z"
        },
        "trusted": true,
        "id": "-5_0PGC4K-s-"
      },
      "execution_count": null,
      "outputs": []
    },
    {
      "cell_type": "code",
      "source": [
        "#predict = model.predict(img_bat)"
      ],
      "metadata": {
        "id": "SHiNiMxyK-s-"
      },
      "execution_count": null,
      "outputs": []
    },
    {
      "cell_type": "code",
      "source": [
        "#score= tf.nn.softmax(predict)"
      ],
      "metadata": {
        "id": "xQfsUz7SK-s-"
      },
      "execution_count": null,
      "outputs": []
    },
    {
      "cell_type": "code",
      "source": [
        "#print('Veg / Fruit in Image is {}  with accuracy of {0.2f}'.format(data_cat[np.argmax(score),np.max(score)*100]) )"
      ],
      "metadata": {
        "id": "OF0PL6AwK-s_"
      },
      "execution_count": null,
      "outputs": []
    }
  ]
}